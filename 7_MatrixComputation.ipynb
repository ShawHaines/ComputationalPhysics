{
 "cells": [
  {
   "cell_type": "markdown",
   "metadata": {},
   "source": [
    "# Matrix Computation\n",
    "\n",
    "## 重复本讲义三对角高斯消元法\n"
   ]
  },
  {
   "cell_type": "code",
   "execution_count": 33,
   "metadata": {
    "code_folding": []
   },
   "outputs": [],
   "source": [
    "import numpy as np\n",
    "\n",
    "def LUDecompose(A):\n",
    "    \"\"\"\n",
    "    returns L,U, where the diagonal elements of U are all 1.\n",
    "    \"\"\"\n",
    "    # the order of the matrix\n",
    "    N=np.size(A,0)\n",
    "    L=np.zeros_like(A)\n",
    "    U=np.identity(N)\n",
    "    # Be careful that the index starts from 0.\n",
    "    L[0,0]=A[-0,0]\n",
    "    U[0,1]=A[0,1]/A[0,0]\n",
    "    for i in range(1,N):\n",
    "        L[i,i-1]=A[i,i-1]\n",
    "        L[i,i]=A[i,i]-L[i,i-1]*U[i-1,i]\n",
    "        if i<N-1:\n",
    "            U[i,i+1]=A[i,i+1]/L[i,i]\n",
    "    return L,U"
   ]
  },
  {
   "cell_type": "code",
   "execution_count": 44,
   "metadata": {
    "code_folding": []
   },
   "outputs": [],
   "source": [
    "def solveLU(L,U,d):\n",
    "    \"\"\"\n",
    "    solve a set of linear equations written in the form LUx=d.\n",
    "    \"\"\"\n",
    "    N=np.size(L,1)\n",
    "    y=np.zeros_like(d)\n",
    "    x=np.zeros_like(d)\n",
    "    y[0]=d[0]/L[0,0]\n",
    "    for i in range(1,N):\n",
    "        y[i]=(d[i]-L[i,i-1]*y[i-1])/L[i,i]\n",
    "    x[N-1]=y[N-1]\n",
    "    for i in np.arange(N-2,-1,-1):\n",
    "        x[i]=y[i]-U[i,i+1]*x[i+1]\n",
    "    return x\n",
    "\n",
    "def solve(A,d):\n",
    "    return solveLU(*LUDecompose(A),d) # love the argument unpacking grammar!"
   ]
  },
  {
   "cell_type": "markdown",
   "metadata": {},
   "source": [
    "Using the examples in the textbook to verify the results."
   ]
  },
  {
   "cell_type": "code",
   "execution_count": 41,
   "metadata": {},
   "outputs": [],
   "source": [
    "A=np.array([[ 2,-1, 0, 0],\n",
    "            [-1, 3, -2,0],\n",
    "            [ 0,-2, 4,-3],\n",
    "            [ 0, 0,-3, 5]],dtype=float)\n",
    "d=np.array([6,1,-2,1],dtype=float).reshape((4,1))"
   ]
  },
  {
   "cell_type": "code",
   "execution_count": 43,
   "metadata": {},
   "outputs": [
    {
     "name": "stdout",
     "output_type": "stream",
     "text": [
      "L:\n",
      "[[ 2.    0.    0.    0.  ]\n",
      " [-1.    2.5   0.    0.  ]\n",
      " [ 0.   -2.    2.4   0.  ]\n",
      " [ 0.    0.   -3.    1.25]]\n",
      "U:\n",
      "[[ 1.   -0.5   0.    0.  ]\n",
      " [ 0.    1.   -0.8   0.  ]\n",
      " [ 0.    0.    1.   -1.25]\n",
      " [ 0.    0.    0.    1.  ]]\n",
      "solution x:\n",
      "[[5.]\n",
      " [4.]\n",
      " [3.]\n",
      " [2.]]\n"
     ]
    }
   ],
   "source": [
    "L,U=LUDecompose(A)\n",
    "print(\"L:\")\n",
    "print(L)\n",
    "print(\"U:\")\n",
    "print(U)\n",
    "\n",
    "x=solve(A,d)\n",
    "print(\"solution x:\")\n",
    "print(x)"
   ]
  },
  {
   "cell_type": "markdown",
   "metadata": {},
   "source": [
    "## 利用三种迭代方法求解 P148#13\n",
    "\n",
    "$$\n",
    "\\begin{bmatrix}\n",
    "12&-2&1&&&\\\\\n",
    "-2&12&-2&1&&\\\\\n",
    "1&-2&12&-2&1&\\\\\n",
    "&1&-2&12&-2&1\\\\\n",
    "&&\\cdots\\\\\n",
    "\\end{bmatrix}\n",
    "\\begin{bmatrix}\n",
    "x_1\\\\\n",
    "x_2\\\\\n",
    "\\vdots\\\\\n",
    "x_{49}\\\\\n",
    "x_{50}\n",
    "\\end{bmatrix}\n",
    "=\n",
    "\\begin{bmatrix}\n",
    "5\\\\\n",
    "5\\\\\n",
    "5\\\\\n",
    "5\\\\\n",
    "5\\\\\n",
    "\\end{bmatrix}\n",
    "$$"
   ]
  },
  {
   "cell_type": "code",
   "execution_count": null,
   "metadata": {},
   "outputs": [],
   "source": []
  },
  {
   "cell_type": "markdown",
   "metadata": {},
   "source": [
    "We have chosen to represent and store the coefficient matrix in sparse matrix `csr_matrix` encoding."
   ]
  },
  {
   "cell_type": "code",
   "execution_count": 65,
   "metadata": {},
   "outputs": [
    {
     "name": "stdout",
     "output_type": "stream",
     "text": [
      "[[12 -2  1 ...  0  0  0]\n",
      " [-2 12 -2 ...  0  0  0]\n",
      " [ 1 -2 12 ...  0  0  0]\n",
      " ...\n",
      " [ 0  0  0 ... 12 -2  1]\n",
      " [ 0  0  0 ... -2 12 -2]\n",
      " [ 0  0  0 ...  1 -2 12]]\n",
      "[[5.]\n",
      " [5.]\n",
      " [5.]\n",
      " [5.]\n",
      " [5.]\n",
      " [5.]\n",
      " [5.]\n",
      " [5.]\n",
      " [5.]\n",
      " [5.]\n",
      " [5.]\n",
      " [5.]\n",
      " [5.]\n",
      " [5.]\n",
      " [5.]\n",
      " [5.]\n",
      " [5.]\n",
      " [5.]\n",
      " [5.]\n",
      " [5.]\n",
      " [5.]\n",
      " [5.]\n",
      " [5.]\n",
      " [5.]\n",
      " [5.]\n",
      " [5.]\n",
      " [5.]\n",
      " [5.]\n",
      " [5.]\n",
      " [5.]\n",
      " [5.]\n",
      " [5.]\n",
      " [5.]\n",
      " [5.]\n",
      " [5.]\n",
      " [5.]\n",
      " [5.]\n",
      " [5.]\n",
      " [5.]\n",
      " [5.]\n",
      " [5.]\n",
      " [5.]\n",
      " [5.]\n",
      " [5.]\n",
      " [5.]\n",
      " [5.]\n",
      " [5.]\n",
      " [5.]\n",
      " [5.]\n",
      " [5.]]\n"
     ]
    }
   ],
   "source": [
    "from scipy.sparse import csr_matrix\n",
    "# Note the weird grammar in sum().\n",
    "rows = np.array([0]*3+[1]*4+sum([[i]*5 for i in range(2,48)],[])+[48]*4+[49]*3)\n",
    "columns=np.array([0,1,2]+[0,1,2,3]+sum([list(range(i,i+5)) for i in range(46)],[])+[46,47,48,49]+[47,48,49])\n",
    "data=np.array([12,-2,1]+[-2,12,-2,1]+[1,-2,12,-2,1]*46+[1,-2,12,-2]+[1,-2,12])\n",
    "\n",
    "sparseA=csr_matrix((data,(rows,columns)),shape=(50,50)).toarray()\n",
    "print(sparseA)\n",
    "# print(type(sparseA))\n",
    "b=np.ones((50,1),dtype=float)*5\n",
    "print(b)"
   ]
  },
  {
   "cell_type": "code",
   "execution_count": 25,
   "metadata": {},
   "outputs": [
    {
     "name": "stdout",
     "output_type": "stream",
     "text": [
      "[[12. -2.  1. ...  0.  0.  0.]\n",
      " [-2. 12. -2. ...  0.  0.  0.]\n",
      " [ 1. -2. 12. ...  0.  0.  0.]\n",
      " ...\n",
      " [ 0.  0.  0. ... 12. -2.  1.]\n",
      " [ 0.  0.  0. ... -2. 12. -2.]\n",
      " [ 0.  0.  0. ...  1. -2. 12.]]\n"
     ]
    }
   ],
   "source": [
    "import scipy.sparse\n",
    "# yet a more elegant way to generate the sparse matrix\n",
    "sparseA=scipy.sparse.diags([1,-2,12,-2,1],[-2,-1,-0,1,2],shape=(50,50)).toarray()\n",
    "print(sparseA)"
   ]
  },
  {
   "cell_type": "code",
   "execution_count": 61,
   "metadata": {},
   "outputs": [],
   "source": [
    "def Jacobi(A,b):\n",
    "    D_inverse=np.linalg.inv(np.diag(np.diag(A))) # nice function diag!\n",
    "    M=np.identity(np.size(A,1))-np.dot(D_inverse,A)\n",
    "    g=np.dot(D_inverse,b)\n",
    "    return M,g\n",
    "\n",
    "def Gauss_Seidel(A,b):\n",
    "    U=np.triu(A,1)\n",
    "    L=np.tril(A,-1)\n",
    "    D=np.diag(np.diag(A))\n",
    "    DL_inverse=np.linalg.inv(D+L)\n",
    "    M= -np.dot(DL_inverse,U)\n",
    "    g=np.dot(DL_inverse,b)\n",
    "    return M,g\n",
    "\n",
    "def Relaxation(A,b,w=1):\n",
    "    \"\"\"\n",
    "    w=1, i.e. Gauss_Seidel by default\n",
    "    \"\"\"\n",
    "    U=np.triu(A,1)\n",
    "    L=np.tril(A,-1)\n",
    "    D=np.diag(np.diag(A))\n",
    "    DL_inverse=np.linalg.inv(D+w*L)\n",
    "    M= np.dot(DL_inverse,D-w*(D+U))\n",
    "    g=np.dot(DL_inverse,b)*w\n",
    "    return M,g"
   ]
  },
  {
   "cell_type": "code",
   "execution_count": 68,
   "metadata": {},
   "outputs": [],
   "source": [
    "# Iterative method\n",
    "\n",
    "def iterativeSolution(A,b,x0,epsilon=1e-6,method=Jacobi):\n",
    "    \"\"\"\n",
    "    solve the linear equations in the form Ax=b, A,b are required to be in array.\n",
    "    the available methods are: Jacobi, Gauss_Seidel, Relaxation\n",
    "    \"\"\"\n",
    "    # generates the M and g matrix in different methods.\n",
    "    M,g=method(A,b) \n",
    "    x=np.array(x0)\n",
    "    newX=np.dot(M,x)+g\n",
    "    #iteration times\n",
    "    i=1 \n",
    "    while np.linalg.norm(newX-x)>=epsilon:\n",
    "        x=newX\n",
    "        newX=np.dot(M,x)+g\n",
    "        i+=1\n",
    "    return newX,i"
   ]
  },
  {
   "cell_type": "code",
   "execution_count": 111,
   "metadata": {},
   "outputs": [
    {
     "name": "stdout",
     "output_type": "stream",
     "text": [
      "Jacobi\tGS\tRelaxation(w=1.2)\n",
      "15\t9\t14\t\n",
      "[[0.46379555 0.46379552 0.46379552]\n",
      " [0.53728457 0.5372846  0.53728461]\n",
      " [0.50902297 0.50902292 0.50902292]\n",
      " [0.49822158 0.49822163 0.49822163]\n",
      " [0.49894192 0.49894186 0.49894186]\n",
      " [0.49998529 0.49998535 0.49998535]\n",
      " [0.50008878 0.50008872 0.50008872]\n",
      " [0.50001527 0.50001532 0.50001532]\n",
      " [0.49999483 0.49999479 0.49999479]\n",
      " [0.49999782 0.49999786 0.49999786]\n",
      " [0.50000013 0.50000011 0.50000011]\n",
      " [0.50000018 0.5000002  0.5000002 ]\n",
      " [0.50000004 0.50000002 0.50000002]\n",
      " [0.49999998 0.49999999 0.49999999]\n",
      " [0.5        0.5        0.5       ]\n",
      " [0.5        0.5        0.5       ]\n",
      " [0.5        0.5        0.5       ]\n",
      " [0.5        0.5        0.5       ]\n",
      " [0.5        0.5        0.5       ]\n",
      " [0.5        0.5        0.5       ]\n",
      " [0.5        0.5        0.5       ]\n",
      " [0.5        0.5        0.5       ]\n",
      " [0.5        0.5        0.5       ]\n",
      " [0.5        0.5        0.5       ]\n",
      " [0.5        0.5        0.5       ]\n",
      " [0.5        0.5        0.5       ]\n",
      " [0.5        0.5        0.5       ]\n",
      " [0.5        0.5        0.5       ]\n",
      " [0.5        0.5        0.5       ]\n",
      " [0.5        0.5        0.5       ]\n",
      " [0.5        0.5        0.50000001]\n",
      " [0.5        0.5        0.49999999]\n",
      " [0.5        0.5        0.50000003]\n",
      " [0.5        0.5        0.49999995]\n",
      " [0.5        0.5        0.50000007]\n",
      " [0.5        0.50000001 0.49999991]\n",
      " [0.49999998 0.49999993 0.50000007]\n",
      " [0.50000004 0.50000009 0.49999996]\n",
      " [0.50000018 0.50000019 0.50000024]\n",
      " [0.50000013 0.50000005 0.5000001 ]\n",
      " [0.49999782 0.49999788 0.49999785]\n",
      " [0.49999483 0.49999483 0.4999948 ]\n",
      " [0.50001527 0.50001531 0.50001532]\n",
      " [0.50008878 0.50008871 0.50008872]\n",
      " [0.49998529 0.49998535 0.49998535]\n",
      " [0.49894192 0.49894187 0.49894186]\n",
      " [0.49822158 0.49822164 0.49822163]\n",
      " [0.50902297 0.50902292 0.50902292]\n",
      " [0.53728457 0.5372846  0.53728461]\n",
      " [0.46379555 0.46379552 0.46379552]]\n"
     ]
    }
   ],
   "source": [
    "x0=np.zeros((50,1),dtype=float)\n",
    "weightList=np.arange(0.8,1.5,0.1)\n",
    "\n",
    "methodList=[Jacobi,Gauss_Seidel,lambda A,b:Relaxation(A,b,1.2)]\n",
    "l=[iterativeSolution(sparseA,b,x0,method=each,epsilon=1e-6) for each in methodList]\n",
    "\n",
    "# print(l)\n",
    "\n",
    "table=np.hstack([each[0]for each in l])\n",
    "print(\"Jacobi\\tGS\\tRelaxation(w=1.2)\")\n",
    "# times of iteration\n",
    "for i in l:\n",
    "    print(i[1],end='\\t')\n",
    "print()\n",
    "print(table)"
   ]
  },
  {
   "cell_type": "markdown",
   "metadata": {},
   "source": [
    "As we can see, the result above shows a good agreement with each other. Gauss-Seidel Method performs better than the Jacobi method.\n",
    "To test the convergence speed, we change the weight in relaxation method and print the table."
   ]
  },
  {
   "cell_type": "code",
   "execution_count": 117,
   "metadata": {},
   "outputs": [
    {
     "name": "stdout",
     "output_type": "stream",
     "text": [
      "Method  \titerations\n",
      "Jacobi  \t15\n",
      "Gauss-Seidel\t9\n",
      "Relax(w=0.1)\t146\n",
      "Relax(w=0.2)\t73\n",
      "Relax(w=0.3)\t48\n",
      "Relax(w=0.4)\t35\n",
      "Relax(w=0.5)\t27\n",
      "Relax(w=0.6)\t21\n",
      "Relax(w=0.7)\t17\n",
      "Relax(w=0.8)\t13\n",
      "Relax(w=0.9)\t11\n",
      "Relax(w=1.0)\t9\n",
      "Relax(w=1.1)\t11\n",
      "Relax(w=1.2)\t14\n",
      "Relax(w=1.3)\t18\n",
      "Relax(w=1.4)\t22\n",
      "Relax(w=1.5)\t29\n",
      "Relax(w=1.6)\t39\n",
      "Relax(w=1.7)\t56\n",
      "Relax(w=1.8)\t80\n",
      "Relax(w=1.9)\t142\n"
     ]
    }
   ],
   "source": [
    "print(\"Method  \\titerations\")\n",
    "print(\"Jacobi  \\t{}\".format(iterativeSolution(sparseA,b,x0,method=Jacobi)[1]))\n",
    "print(\"Gauss-Seidel\\t{}\".format(iterativeSolution(sparseA,b,x0,method=Gauss_Seidel)[1]))\n",
    "for i in np.arange(0.1,2.0,0.1):\n",
    "    print(\"Relax(w={:.1f})\\t{}\".format(i,iterativeSolution(sparseA,b,x0,method=lambda A,b:Relaxation(A,b,i))[1]))"
   ]
  },
  {
   "cell_type": "markdown",
   "metadata": {},
   "source": [
    "In conclusion, we need to adjust the weight in relaxation method carefully to get a good performance. In this case, the best performance coincides with w=1(Gauss-Seidel Method)."
   ]
  }
 ],
 "metadata": {
  "kernelspec": {
   "display_name": "Python 3",
   "language": "python",
   "name": "python3"
  },
  "language_info": {
   "codemirror_mode": {
    "name": "ipython",
    "version": 3
   },
   "file_extension": ".py",
   "mimetype": "text/x-python",
   "name": "python",
   "nbconvert_exporter": "python",
   "pygments_lexer": "ipython3",
   "version": "3.7.1"
  },
  "latex_envs": {
   "LaTeX_envs_menu_present": true,
   "autoclose": true,
   "autocomplete": true,
   "bibliofile": "biblio.bib",
   "cite_by": "apalike",
   "current_citInitial": 1,
   "eqLabelWithNumbers": true,
   "eqNumInitial": 1,
   "hotkeys": {
    "equation": "Ctrl-E",
    "itemize": "Ctrl-I"
   },
   "labels_anchors": false,
   "latex_user_defs": false,
   "report_style_numbering": false,
   "user_envs_cfg": false
  },
  "varInspector": {
   "cols": {
    "lenName": 16,
    "lenType": 16,
    "lenVar": 40
   },
   "kernels_config": {
    "python": {
     "delete_cmd_postfix": "",
     "delete_cmd_prefix": "del ",
     "library": "var_list.py",
     "varRefreshCmd": "print(var_dic_list())"
    },
    "r": {
     "delete_cmd_postfix": ") ",
     "delete_cmd_prefix": "rm(",
     "library": "var_list.r",
     "varRefreshCmd": "cat(var_dic_list()) "
    }
   },
   "types_to_exclude": [
    "module",
    "function",
    "builtin_function_or_method",
    "instance",
    "_Feature"
   ],
   "window_display": false
  }
 },
 "nbformat": 4,
 "nbformat_minor": 2
}
