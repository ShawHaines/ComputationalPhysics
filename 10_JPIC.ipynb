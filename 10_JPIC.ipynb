{
 "cells": [
  {
   "cell_type": "markdown",
   "metadata": {},
   "source": [
    "## Show that the oblique incidence case can be handled by the Lorentz boost method."
   ]
  },
  {
   "cell_type": "markdown",
   "metadata": {},
   "source": [
    "Proof: ![](./img/ObliqueIncidence.jpg)\n",
    "We can apply the Lorentz transform formula. After boost by $c\\sin \\theta$ in $y$  direction, the speed of light in the new reference frame is\n",
    "$$\\begin{aligned}\n",
    "v_y=&\\frac{c\\sin\\theta-c\\sin\\theta}{1-\\beta\\sin\\theta}=0\\\\\n",
    "v_x=&\\frac{\\gamma c\\cos\\theta}{1-\\beta\\sin\\theta}\n",
    "\\end{aligned}\n",
    "$$\n",
    "where $\\beta=\\cfrac{c\\sin\\theta}{c}=\\sin\\theta$, then we can simplify the formulas (2) into\n",
    "$$\\begin{aligned}\n",
    "\\gamma&=\\sqrt{1-\\beta^2}=\\cos \\theta\\\\\n",
    "v_x&=c\n",
    "\\end{aligned}\n",
    "$$\n",
    "\n",
    "In other words, in the view of the observer in the new frame, the incidence EM wave is parallel to the $x'$ axis, and the speed of EM wave is still $c$.\n",
    "Which is apparent since there's a basic principle that the speed of light should be conserved. Note that now the plasma are in motion, with velocity $v_y'=-c\\sin\\theta$.\n",
    "![](./img/Boosted.jpg)"
   ]
  },
  {
   "cell_type": "markdown",
   "metadata": {},
   "source": [
    "## Use the JPIC1d program to simulate the relativistic Doppler effect. Plot how the reflected wave frequency depends on the flying mirror's $\\gamma$ factor, and compare the result with theoretical predictions."
   ]
  },
  {
   "cell_type": "code",
   "execution_count": 2,
   "metadata": {},
   "outputs": [
    {
     "name": "stdout",
     "output_type": "stream",
     "text": [
      " 驱动器 D 中的卷是 Data\n",
      " 卷的序列号是 84CA-CF99\n",
      "\n",
      " D:\\Shaw Haines\\OneDrive - zju.edu.cn\\Curriculum\\Physics\\Computational Physics\\Homework 的目录\n",
      "\n",
      "2021/01/16  11:05    <DIR>          .\n",
      "2021/01/16  11:05    <DIR>          ..\n",
      "2020/12/18  16:20               428 .gitattributes\n",
      "2020/12/28  22:33                88 .gitignore\n",
      "2021/01/16  10:35    <DIR>          .ipynb_checkpoints\n",
      "2020/12/18  16:07           345,915 08_PDE.html\n",
      "2020/12/03  12:21            95,134 1.pdf\n",
      "2020/12/18  16:18             1,541 1_Nondimensionalization.md\n",
      "2021/01/16  11:05             3,047 10_JPIC.ipynb\n",
      "2021/01/16  09:42           605,488 11_MonteCarlo.ipynb\n",
      "2020/12/06  15:49           134,022 2.pdf\n",
      "2020/12/18  16:18             2,868 2_ErrorAnalysis.md\n",
      "2020/12/18  16:18             7,184 2_SubtractiveCancelation.ipynb\n",
      "2020/12/09  22:30         1,734,295 3_Interpolation.pdf\n",
      "2020/12/18  16:18             2,982 4_Differential.ipynb\n",
      "2020/12/18  16:18            57,123 5_Integral.ipynb\n",
      "2020/12/20  16:18           309,802 6_ODE.ipynb\n",
      "2020/12/18  16:18            15,191 7_MatrixComputation.ipynb\n",
      "2020/12/18  16:20               978 8_PDE.md\n",
      "2021/01/13  15:57           168,918 9_FFT.ipynb\n",
      "2021/01/16  10:40    <DIR>          img\n",
      "2020/12/30  17:10    <DIR>          jpic1d_comp\n",
      "2020/12/10  15:31             1,089 LICENSE\n",
      "2020/12/18  16:20           157,672 PDE.mlx\n",
      "2020/12/18  15:49           148,685 PDE.pdf\n",
      "2021/01/16  09:46               861 README.md\n",
      "              21 个文件      3,793,311 字节\n",
      "               5 个目录 41,538,998,272 可用字节\n"
     ]
    }
   ],
   "source": [
    "with open(\"./jpic1d_comp/data/input.inp\",\"+\") as f:\n",
    "    "
   ]
  }
 ],
 "metadata": {
  "kernelspec": {
   "display_name": "Python 3",
   "language": "python",
   "name": "python3"
  },
  "language_info": {
   "codemirror_mode": {
    "name": "ipython",
    "version": 3
   },
   "file_extension": ".py",
   "mimetype": "text/x-python",
   "name": "python",
   "nbconvert_exporter": "python",
   "pygments_lexer": "ipython3",
   "version": "3.7.1"
  },
  "latex_envs": {
   "LaTeX_envs_menu_present": true,
   "autoclose": true,
   "autocomplete": true,
   "bibliofile": "biblio.bib",
   "cite_by": "apalike",
   "current_citInitial": 1,
   "eqLabelWithNumbers": true,
   "eqNumInitial": 1,
   "hotkeys": {
    "equation": "Ctrl-E",
    "itemize": "Ctrl-I"
   },
   "labels_anchors": false,
   "latex_user_defs": false,
   "report_style_numbering": false,
   "user_envs_cfg": false
  },
  "varInspector": {
   "cols": {
    "lenName": 16,
    "lenType": 16,
    "lenVar": 40
   },
   "kernels_config": {
    "python": {
     "delete_cmd_postfix": "",
     "delete_cmd_prefix": "del ",
     "library": "var_list.py",
     "varRefreshCmd": "print(var_dic_list())"
    },
    "r": {
     "delete_cmd_postfix": ") ",
     "delete_cmd_prefix": "rm(",
     "library": "var_list.r",
     "varRefreshCmd": "cat(var_dic_list()) "
    }
   },
   "types_to_exclude": [
    "module",
    "function",
    "builtin_function_or_method",
    "instance",
    "_Feature"
   ],
   "window_display": false
  }
 },
 "nbformat": 4,
 "nbformat_minor": 2
}
