{
 "cells": [
  {
   "cell_type": "markdown",
   "metadata": {},
   "source": [
    "# Numerical Integration\n",
    "\n",
    "## 1. One-dimentional numerical integration\n",
    "\n",
    "**(a)** Use the mid-point approximation, the tarpezoidal approiximation and Simpson's rule to estimate the integrals of \n",
    "\n",
    "$$f(x) = 2x+3x^2+4x^3$$\n",
    "and\n",
    "$$g(x)=e^{-x}$$\n",
    "for $0\\le x\\le 1$. What is the approximate $n-$dependence of the error in each case?\n",
    "Which approximation yields the best results for the same computation time?\n"
   ]
  },
  {
   "cell_type": "code",
   "execution_count": 15,
   "metadata": {},
   "outputs": [],
   "source": [
    "import math\n",
    "\n",
    "f=lambda x: 2*x+3*x**2+4*x**3\n",
    "g=lambda x: math.exp(-x)\n"
   ]
  },
  {
   "cell_type": "code",
   "execution_count": 16,
   "metadata": {},
   "outputs": [],
   "source": [
    "import numpy as np;\n",
    "\n",
    "def midPoint(func,n,min=0.,max=1.):\n",
    "    h=(max-min)/n\n",
    "    return h*np.sum([func(x+0.5*h) for x in np.linspace(min,max,n,endpoint=False)])\n",
    "\n",
    "def tarpezoidal(func,n,min=0.,max=1.):\n",
    "    h=(max-min)/n\n",
    "    return h/2*(func(min)+func(max)+2*np.sum([func(x) for x in np.arange(min+h,max,h)]))\n",
    "\n",
    "def simpson(func,n,min=0.,max=1.):\n",
    "    h=(max-min)/n\n",
    "    return h/3*(func(min)+func(max)+np.sum([4*func(min+h*i) if i%2!=0 else 2*func(min+h*i) for i in np.arange(1,n)]))\n",
    "\n"
   ]
  },
  {
   "cell_type": "markdown",
   "metadata": {},
   "source": [
    "The exact value of the results should be $3$ and $1-1/e$"
   ]
  },
  {
   "cell_type": "code",
   "execution_count": 17,
   "metadata": {},
   "outputs": [
    {
     "name": "stdout",
     "output_type": "stream",
     "text": [
      "[3, 0.6321205588285577]\n"
     ]
    }
   ],
   "source": [
    "standard=[3,1-1./math.e]\n",
    "print(standard)"
   ]
  },
  {
   "cell_type": "code",
   "execution_count": 18,
   "metadata": {},
   "outputs": [],
   "source": [
    "nList=[4,10,20,40,100,1000,10000,100000,1000000,10000000]\n",
    "methodList=[midPoint,tarpezoidal,simpson]\n"
   ]
  },
  {
   "cell_type": "code",
   "execution_count": 19,
   "metadata": {},
   "outputs": [
    {
     "name": "stdout",
     "output_type": "stream",
     "text": [
      "f(x) results\n",
      "value:\n",
      "[[2.953125   3.09375    3.        ]\n",
      " [2.9925     3.015      3.        ]\n",
      " [2.998125   3.00375    3.        ]\n",
      " [2.99953125 3.0009375  3.        ]\n",
      " [2.999925   3.00015    3.        ]\n",
      " [2.99999925 3.0000015  3.        ]\n",
      " [2.99999999 3.00000001 3.        ]\n",
      " [3.         3.         3.        ]\n",
      " [3.         3.         3.        ]\n",
      " [3.         3.0000009  3.        ]]\n",
      "error:\n",
      "[[-4.68750000e-02  9.37500000e-02  0.00000000e+00]\n",
      " [-7.50000000e-03  1.50000000e-02  4.44089210e-16]\n",
      " [-1.87500000e-03  3.75000000e-03  8.88178420e-16]\n",
      " [-4.68750000e-04  9.37500000e-04  1.33226763e-15]\n",
      " [-7.50000000e-05  1.50000000e-04  0.00000000e+00]\n",
      " [-7.50000000e-07  1.50000000e-06  0.00000000e+00]\n",
      " [-7.49999929e-09  1.49999999e-08  0.00000000e+00]\n",
      " [-7.49991180e-11  1.50000901e-10  1.33226763e-15]\n",
      " [-7.50510765e-13  1.49880108e-12  4.44089210e-16]\n",
      " [-8.43769499e-15  9.00000014e-07 -3.99680289e-15]]\n"
     ]
    }
   ],
   "source": [
    "table=np.reshape([method(f,n) for n in nList for method in methodList],(len(nList),len(methodList)))\n",
    "errorTable=table-standard[0]\n",
    "print(\"f(x) results\")\n",
    "print(\"value:\")\n",
    "print(table)\n",
    "print(\"error:\")\n",
    "print(errorTable)"
   ]
  },
  {
   "cell_type": "code",
   "execution_count": 20,
   "metadata": {},
   "outputs": [
    {
     "name": "stdout",
     "output_type": "stream",
     "text": [
      "g(x) results\n",
      "value:\n",
      "[[0.63047741 0.63540943 0.63213418]\n",
      " [0.63185725 0.63264724 0.63212091]\n",
      " [0.63205472 0.63225225 0.63212058]\n",
      " [0.6321041  0.63215348 0.63212056]\n",
      " [0.63211793 0.63212583 0.63212056]\n",
      " [0.63212053 0.63212061 0.63212056]\n",
      " [0.63212056 0.63212056 0.63212056]\n",
      " [0.63212056 0.63212056 0.63212056]\n",
      " [0.63212056 0.63212056 0.63212056]\n",
      " [0.63212056 0.6321206  0.63212056]]\n",
      "error:\n",
      "[[-1.64315144e-03  3.28887020e-03  1.36164920e-05]\n",
      " [-2.63306766e-04  5.26679359e-04  3.50760458e-07]\n",
      " [-6.58410906e-05  1.31686296e-04  2.19420998e-08]\n",
      " [-1.64611728e-05  3.29226028e-05  1.37168710e-09]\n",
      " [-2.63382798e-06  5.26766254e-06  3.51173535e-11]\n",
      " [-2.63383558e-08  5.26767123e-08  3.55271368e-15]\n",
      " [-2.63383426e-10  5.26767296e-10  1.11022302e-16]\n",
      " [-2.63378208e-12  5.26778621e-12  1.11022302e-16]\n",
      " [-2.64233080e-14  5.27355937e-14  2.22044605e-16]\n",
      " [ 7.77156117e-16  3.67879457e-08 -2.22044605e-16]]\n"
     ]
    }
   ],
   "source": [
    "table=np.reshape([method(g,n) for n in nList for method in methodList],(len(nList),len(methodList)))\n",
    "errorTable=table-standard[1]\n",
    "print(\"g(x) results\")\n",
    "print(\"value:\")\n",
    "print(table)\n",
    "print(\"error:\")\n",
    "print(errorTable)"
   ]
  },
  {
   "cell_type": "markdown",
   "metadata": {},
   "source": [
    "As we can see, the 3 columns represent midpoint, tarpezoidal, and simpson method respectively. Apparently, viewed in the rows, as n goes larger, the error in every method tends to decrease.\n",
    "\n",
    "\n",
    "As we look into columns, there is a distinct difference in the precision of the results. In general, regardless of the value of n, simpson's method is always better than tarpezoidal method and the midpoint method. The precision of tarpezoidal and midPoint methods are approximately of the same magnitude, and midPoint method's error is about half of that of the simpson method.\n",
    "\n",
    "In conclusion, the Simpon's method yields the best result."
   ]
  },
  {
   "cell_type": "code",
   "execution_count": 24,
   "metadata": {},
   "outputs": [
    {
     "data": {
      "text/plain": [
       "<matplotlib.legend.Legend at 0x224955e9400>"
      ]
     },
     "execution_count": 24,
     "metadata": {},
     "output_type": "execute_result"
    },
    {
     "data": {
      "image/png": "[encoded data removed]",
      "text/plain": [
       "<Figure size 432x288 with 1 Axes>"
      ]
     },
     "metadata": {
      "needs_background": "light"
     },
     "output_type": "display_data"
    },
    {
     "data": {
      "image/png": "[encoded data removed]",
      "text/plain": [
       "<Figure size 432x288 with 1 Axes>"
      ]
     },
     "metadata": {
      "needs_background": "light"
     },
     "output_type": "display_data"
    }
   ],
   "source": [
    "import matplotlib.pyplot as plt\n",
    "plt.figure()\n",
    "plt.title(\"linear\")\n",
    "plt.plot(nList[0:5],np.abs(errorTable)[0:5,0],label=\"mid-point\")\n",
    "plt.plot(nList[0:5],np.abs(errorTable)[0:5,1],label=\"tarpezoidal\")\n",
    "plt.plot(nList[0:5],np.abs(errorTable)[0:5,2],label=\"Simpson\")\n",
    "plt.legend()\n",
    "plt.xlabel(\"n\")\n",
    "plt.ylabel(\"error\")\n",
    "\n",
    "plt.figure()\n",
    "plt.title(\"logarithm\")\n",
    "plt.xlabel(\"ln(n)\")\n",
    "plt.ylabel(\"ln(error)\")\n",
    "logN=np.log(nList)\n",
    "logError=np.log(np.abs(errorTable))\n",
    "plt.plot(logN,logError[:,0],label=\"mid-point\")\n",
    "plt.plot(logN,logError[:,1],label=\"tarpezoidal\")\n",
    "plt.plot(logN,logError[:,2],label=\"Simpson's\")\n",
    "plt.legend()"
   ]
  },
  {
   "cell_type": "markdown",
   "metadata": {},
   "source": [
    "The error and n has been plotted in the figures above. It's then easy to varify that the mid-point and the tarpezoidal method are, indeed, of the same magnitude of precision, and their error is proportional to $o(\\frac{1}{n^2})$; and the error of Simpson's method is proportional to $o(\\frac{1}{n^5})$.\n",
    "\n",
    "\n"
   ]
  },
  {
   "cell_type": "markdown",
   "metadata": {},
   "source": [
    "**(b)** Find the point where the minimum error can be achieved for the Simpson's method and the mid-point method.\n",
    "\n",
    "\n",
    "\n"
   ]
  },
  {
   "cell_type": "markdown",
   "metadata": {},
   "source": [
    "As is shown in the logarithm figure, the error of mid-point method steadily goes down as $n$ increases. The minimum error is achieved approximately at `n=1e7`, and the error is about `7e-16`\n",
    "\n",
    "\n",
    "In contrast, the error of the Simpson's method is already very small at a relatively small $n$. Therefore, as $n$ goes up, the numerical error `舍入误差` becomes dominant instead, which leads to the rise of errors. The minimum error is `1e-16`, which is achieved at `n=1e4`\n",
    "\n",
    "\n",
    "\n",
    "\n",
    "\n"
   ]
  },
  {
   "cell_type": "markdown",
   "metadata": {},
   "source": [
    "**(c)** Use Simpson's rule to estimate the integral of\n",
    "\n",
    "$$F(x) = (2\\pi)^{-1/2}e^{-x^2}$$\n",
    "for $-1\\le x \\le 1, -2\\le x \\le 2$ and $-3 \\le x \\le 3$.\n"
   ]
  },
  {
   "cell_type": "code",
   "execution_count": 22,
   "metadata": {},
   "outputs": [
    {
     "name": "stdout",
     "output_type": "stream",
     "text": [
      "0.5958794462495701\n",
      "0.703799114746634\n",
      "0.7070911595817403\n"
     ]
    }
   ],
   "source": [
    "def F(x):\n",
    "    return 1/math.sqrt(2*math.pi)*math.exp(-x*x)\n",
    "\n",
    "print(simpson(F,100,-1,1))\n",
    "print(simpson(F,100,-2,2))\n",
    "print(simpson(F,100,-3,3))\n"
   ]
  },
  {
   "cell_type": "markdown",
   "metadata": {},
   "source": [
    "as the integral range gets larger, the result should approach $\\frac{1}{\\sqrt{2}}$\n",
    "\n"
   ]
  }
 ],
 "metadata": {
  "kernelspec": {
   "display_name": "Python 3",
   "language": "python",
   "name": "python3"
  },
  "language_info": {
   "codemirror_mode": {
    "name": "ipython",
    "version": 3
   },
   "file_extension": ".py",
   "mimetype": "text/x-python",
   "name": "python",
   "nbconvert_exporter": "python",
   "pygments_lexer": "ipython3",
   "version": "3.7.1"
  },
  "latex_envs": {
   "LaTeX_envs_menu_present": true,
   "autoclose": true,
   "autocomplete": true,
   "bibliofile": "biblio.bib",
   "cite_by": "apalike",
   "current_citInitial": 1,
   "eqLabelWithNumbers": true,
   "eqNumInitial": 1,
   "hotkeys": {
    "equation": "Ctrl-E",
    "itemize": "Ctrl-I"
   },
   "labels_anchors": false,
   "latex_user_defs": false,
   "report_style_numbering": false,
   "user_envs_cfg": false
  },
  "varInspector": {
   "cols": {
    "lenName": 16,
    "lenType": 16,
    "lenVar": 40
   },
   "kernels_config": {
    "python": {
     "delete_cmd_postfix": "",
     "delete_cmd_prefix": "del ",
     "library": "var_list.py",
     "varRefreshCmd": "print(var_dic_list())"
    },
    "r": {
     "delete_cmd_postfix": ") ",
     "delete_cmd_prefix": "rm(",
     "library": "var_list.r",
     "varRefreshCmd": "cat(var_dic_list()) "
    }
   },
   "position": {
    "height": "144.4px",
    "left": "1173px",
    "right": "20px",
    "top": "180px",
    "width": "350px"
   },
   "types_to_exclude": [
    "module",
    "function",
    "builtin_function_or_method",
    "instance",
    "_Feature"
   ],
   "window_display": false
  }
 },
 "nbformat": 4,
 "nbformat_minor": 2
}
