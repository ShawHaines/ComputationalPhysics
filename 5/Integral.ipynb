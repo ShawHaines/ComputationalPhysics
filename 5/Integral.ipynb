{
 "cells": [
  {
   "cell_type": "markdown",
   "metadata": {},
   "source": [
    "# Numerical Integration\n",
    "\n",
    "1. One-dimentiaonal numerical integration\n",
    "(a) Use the mid-point approximation, the tarpezoidal approiximation and Simpson's rule to estimate the integrals of \n",
    "$$f(x) = 2x+3x^2+4x^3$$\n",
    "and\n",
    "$$g(x)=e^{-x}$$\n",
    "for $0\\le x\\le 1$. What is the approximate $n-$dependence of the error in each case?\n",
    "Which approximation yields the best results for the same computation time?"
   ]
  },
  {
   "cell_type": "code",
   "execution_count": 3,
   "metadata": {},
   "outputs": [],
   "source": [
    "import math\n",
    "\n",
    "f=lambda x: 2*x+3*x**2+4*x**3\n",
    "g=lambda x: math.exp(-x)\n"
   ]
  },
  {
   "cell_type": "code",
   "execution_count": 4,
   "metadata": {},
   "outputs": [],
   "source": [
    "import numpy as np;\n",
    "\n",
    "def midPoint(func,n,min=0.,max=1.):\n",
    "    h=(max-min)/n\n",
    "    return h*sum([func(x+0.5*h) for x in np.linspace(min,max,n,endpoint=False)])\n",
    "\n",
    "def tarpezoidal(func,n,min=0.,max=1.):\n",
    "    h=(max-min)/n\n",
    "    return h/2*(func(min)+func(max)+2*sum([func(x) for x in np.arange(min+h,max,h)]))\n",
    "\n",
    "def simpson(func,n,min=0.,max=1.):\n",
    "    h=(max-min)/n\n",
    "    return h/3*(func(min)+func(max)+sum([4*func(min+h*i) if i%2!=0 else 2*func(min+h*i) for i in range(1,n)]))\n",
    "\n"
   ]
  },
  {
   "cell_type": "markdown",
   "metadata": {},
   "source": [
    "The exact value of the results should be $3$ and $1-1/e$"
   ]
  },
  {
   "cell_type": "code",
   "execution_count": 5,
   "metadata": {},
   "outputs": [
    {
     "name": "stdout",
     "output_type": "stream",
     "text": [
      "[3, 0.6321205588285577]\n"
     ]
    }
   ],
   "source": [
    "standard=[3,1-1./math.e]\n",
    "print(standard)"
   ]
  },
  {
   "cell_type": "code",
   "execution_count": 6,
   "metadata": {},
   "outputs": [],
   "source": [
    "nList=[4,10,20,40,100,1000]\n",
    "methodList=[midPoint,tarpezoidal,simpson]\n"
   ]
  },
  {
   "cell_type": "code",
   "execution_count": 7,
   "metadata": {},
   "outputs": [
    {
     "name": "stdout",
     "output_type": "stream",
     "text": [
      "f(x) results\n",
      "value:\n",
      "[[2.953125   3.09375    3.        ]\n",
      " [2.9925     3.015      3.        ]\n",
      " [2.998125   3.00375    3.        ]\n",
      " [2.99953125 3.0009375  3.        ]\n",
      " [2.999925   3.00015    3.        ]\n",
      " [2.99999925 3.0000015  3.        ]]\n",
      "error:\n",
      "[[-4.68750000e-02  9.37500000e-02  0.00000000e+00]\n",
      " [-7.50000000e-03  1.50000000e-02  0.00000000e+00]\n",
      " [-1.87500000e-03  3.75000000e-03  8.88178420e-16]\n",
      " [-4.68750000e-04  9.37500000e-04  4.44089210e-16]\n",
      " [-7.50000000e-05  1.50000000e-04  8.88178420e-16]\n",
      " [-7.50000000e-07  1.50000000e-06  1.33226763e-15]]\n"
     ]
    }
   ],
   "source": [
    "table=np.reshape([method(f,n) for n in nList for method in methodList],(len(nList),len(methodList)))\n",
    "errorTable=table-standard[0]\n",
    "print(\"f(x) results\")\n",
    "print(\"value:\")\n",
    "print(table)\n",
    "print(\"error:\")\n",
    "print(errorTable)"
   ]
  },
  {
   "cell_type": "code",
   "execution_count": 8,
   "metadata": {},
   "outputs": [
    {
     "name": "stdout",
     "output_type": "stream",
     "text": [
      "g(x) results\n",
      "value:\n",
      "[[0.63047741 0.63540943 0.63213418]\n",
      " [0.63185725 0.63264724 0.63212091]\n",
      " [0.63205472 0.63225225 0.63212058]\n",
      " [0.6321041  0.63215348 0.63212056]\n",
      " [0.63211793 0.63212583 0.63212056]\n",
      " [0.63212053 0.63212061 0.63212056]]\n",
      "error:\n",
      "[[-1.64315144e-03  3.28887020e-03  1.36164920e-05]\n",
      " [-2.63306766e-04  5.26679359e-04  3.50760458e-07]\n",
      " [-6.58410906e-05  1.31686296e-04  2.19420998e-08]\n",
      " [-1.64611728e-05  3.29226028e-05  1.37168710e-09]\n",
      " [-2.63382798e-06  5.26766254e-06  3.51172424e-11]\n",
      " [-2.63383551e-08  5.26767135e-08  3.55271368e-15]]\n"
     ]
    }
   ],
   "source": [
    "table=np.reshape([method(g,n) for n in nList for method in methodList],(len(nList),len(methodList)))\n",
    "errorTable=table-standard[1]\n",
    "print(\"g(x) results\")\n",
    "print(\"value:\")\n",
    "print(table)\n",
    "print(\"error:\")\n",
    "print(errorTable)"
   ]
  },
  {
   "cell_type": "markdown",
   "metadata": {},
   "source": [
    "As we can see, the 3 columns represent midpoint, tarpezoidal, and simpson method respectively. Apparently, viewed in the rows, as n goes larger, the error in every method tends to decrease.\n",
    "\n",
    "As we look into columns, there is a distinct difference in the precision of the results. In general, regardless of the value of n, simpson's method is always better than tarpezoidal method and the midpoint method. The precision of tarpezoidal and midPoint methods are approximately of the same magnitude, and midPoint method's error is about half of that of the simpson method.\n",
    "\n",
    "In conclusion, the Simpon's method yields the best result."
   ]
  },
  {
   "cell_type": "code",
   "execution_count": 25,
   "metadata": {},
   "outputs": [
    {
     "data": {
      "text/plain": [
       "[<matplotlib.lines.Line2D at 0x29827681160>,\n",
       " <matplotlib.lines.Line2D at 0x29827656048>,\n",
       " <matplotlib.lines.Line2D at 0x29827651ef0>]"
      ]
     },
     "execution_count": 25,
     "metadata": {},
     "output_type": "execute_result"
    },
    {
     "data": {
      "image/png": "[encoded data removed]",
      "text/plain": [
       "<Figure size 432x288 with 1 Axes>"
      ]
     },
     "metadata": {
      "needs_background": "light"
     },
     "output_type": "display_data"
    },
    {
     "data": {
      "image/png": "[encoded data removed]",
      "text/plain": [
       "<Figure size 432x288 with 1 Axes>"
      ]
     },
     "metadata": {
      "needs_background": "light"
     },
     "output_type": "display_data"
    }
   ],
   "source": [
    "import matplotlib.pyplot as plt\n",
    "plt.figure()\n",
    "plt.title(\"linear\")\n",
    "plt.plot(nList,np.abs(errorTable))\n",
    "plt.xlabel(\"n\")\n",
    "plt.ylabel(\"error\")\n",
    "\n",
    "plt.figure()\n",
    "plt.title(\"logarithm\")\n",
    "plt.xlabel(\"ln(n)\")\n",
    "\n",
    "plt.ylabel(\"ln(error)\")\n",
    "plt.plot(np.log(nList),np.log(np.abs(errorTable)))\n"
   ]
  },
  {
   "cell_type": "markdown",
   "metadata": {},
   "source": [
    "The error and n has been plotted in the figures above. It's then easy to varify that the mid-point and the tarpezoidal method are, indeed, of the same magnitude of precision, and their error is proportional to $o(\\frac{1}{n^2})$; and the error of Simpson's method is proportional to $o(\\frac{1}{n^5})$.\n",
    "\n",
    "\n"
   ]
  },
  {
   "cell_type": "markdown",
   "metadata": {},
   "source": [
    "(b) Use Simpson's rule to estimate the integral of\n",
    "$$F(x) = (2\\pi)^{-1/2}e^{-x^2}$$\n",
    "for $-1\\le x \\le 1, -2\\le x \\le 2$ and $-3 \\le x \\le 3$."
   ]
  },
  {
   "cell_type": "code",
   "execution_count": 10,
   "metadata": {},
   "outputs": [
    {
     "name": "stdout",
     "output_type": "stream",
     "text": [
      "0.5958794462495701\n",
      "0.7037991147466343\n",
      "0.7070911595817405\n"
     ]
    }
   ],
   "source": [
    "def F(x):\n",
    "    return 1/math.sqrt(2*math.pi)*math.exp(-x*x)\n",
    "\n",
    "print(simpson(F,100,-1,1))\n",
    "print(simpson(F,100,-2,2))\n",
    "print(simpson(F,100,-3,3))\n"
   ]
  },
  {
   "cell_type": "markdown",
   "metadata": {},
   "source": [
    "as the integral range gets larger, the result should approach $\\frac{1}{\\sqrt{2}}$\n",
    "\n"
   ]
  }
 ],
 "metadata": {
  "kernelspec": {
   "display_name": "Python 3",
   "language": "python",
   "name": "python3"
  },
  "language_info": {
   "codemirror_mode": {
    "name": "ipython",
    "version": 3
   },
   "file_extension": ".py",
   "mimetype": "text/x-python",
   "name": "python",
   "nbconvert_exporter": "python",
   "pygments_lexer": "ipython3",
   "version": "3.7.1"
  },
  "latex_envs": {
   "LaTeX_envs_menu_present": true,
   "autoclose": true,
   "autocomplete": true,
   "bibliofile": "biblio.bib",
   "cite_by": "apalike",
   "current_citInitial": 1,
   "eqLabelWithNumbers": true,
   "eqNumInitial": 1,
   "hotkeys": {
    "equation": "Ctrl-E",
    "itemize": "Ctrl-I"
   },
   "labels_anchors": false,
   "latex_user_defs": false,
   "report_style_numbering": false,
   "user_envs_cfg": false
  }
 },
 "nbformat": 4,
 "nbformat_minor": 2
}
