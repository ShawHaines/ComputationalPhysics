{
 "metadata": {
  "language_info": {
   "codemirror_mode": {
    "name": "ipython",
    "version": 3
   },
   "file_extension": ".py",
   "mimetype": "text/x-python",
   "name": "python",
   "nbconvert_exporter": "python",
   "pygments_lexer": "ipython3",
   "version": "3.7.1-final"
  },
  "orig_nbformat": 2,
  "kernelspec": {
   "name": "python3",
   "display_name": "Python 3"
  }
 },
 "nbformat": 4,
 "nbformat_minor": 2,
 "cells": [
  {
   "source": [
    "# 数值微分\n",
    "\n",
    "* 利用中心微分近似计算$f(x)=\\exp(x)$在$x=1.5$的一阶导数，步长取0.1, 0.01, 0.001"
   ],
   "cell_type": "markdown",
   "metadata": {}
  },
  {
   "cell_type": "code",
   "execution_count": 4,
   "metadata": {},
   "outputs": [],
   "source": [
    "import math\n",
    "def f(x):\n",
    "    return math.exp(x)\n",
    "\n",
    "def centerDifferential(x,step=0.1,function=f):\n",
    "    return (function(x+step)-function(x-step))/2/step\n"
   ]
  },
  {
   "cell_type": "code",
   "execution_count": 8,
   "metadata": {},
   "outputs": [
    {
     "output_type": "stream",
     "name": "stdout",
     "text": [
      "4.489162287752202\n4.481763765529401\n4.481689817286139\n"
     ]
    }
   ],
   "source": [
    "a1=centerDifferential(1.5,step=0.1  )\n",
    "a2=centerDifferential(1.5,step=0.01 )\n",
    "a3=centerDifferential(1.5,step=0.001)\n",
    "\n",
    "print(a1)\n",
    "print(a2)\n",
    "print(a3)"
   ]
  },
  {
   "source": [
    "* 将结果与精确解$f'(1.5)=\\exp(1.5)$进行比较，分析误差随着步长的变化以及理论依据。"
   ],
   "cell_type": "markdown",
   "metadata": {}
  },
  {
   "cell_type": "code",
   "execution_count": 9,
   "metadata": {},
   "outputs": [
    {
     "output_type": "stream",
     "name": "stdout",
     "text": [
      "4.4816890703380645\n\n0.007473217414137423\n7.469519133618263e-05\n7.469480740596168e-07\n"
     ]
    }
   ],
   "source": [
    "standard=math.exp(1.5)\n",
    "print(standard)\n",
    "print()\n",
    "print(a1-standard)\n",
    "print(a2-standard)\n",
    "print(a3-standard)"
   ]
  },
  {
   "source": [
    "误差大约随着步长呈平方减小。理论依据即中心差商的截断误差为$o(h^2)$"
   ],
   "cell_type": "markdown",
   "metadata": {}
  }
 ]
}