{
 "cells": [
  {
   "source": [
    "# Homework#2 误差分析\n",
    "\n",
    "3180102707 石昊海\n",
    "\n",
    "## 1.4#2\n",
    "\n",
    "一般而言,(a)的公式更为实用。(b)公式当$x,y$十分接近的时候，一方面$\\frac{(y-x)}{2.0}$相近数互减会使有效数字减少，另一方面作差后与$x$相加也可能产生大数吃小数的情况。\n",
    "\n",
    "## 1.4#3\n",
    "\n",
    "(a)\n",
    "\n",
    "$(x-y)(x+y)$ 可以被计算得更加精确。\n",
    "虽然当$x,y$绝对值较为接近的时候，两条表达式都会出现相近数作差使误差增加的情况，但是相对而言$x^2$数值更大一些，作差得到的结果有效数字位数更少。\n",
    "\n",
    "(b)\n",
    "\n",
    "记$\\delta=x-y$，当\n",
    "$$\n",
    "\\frac{|\\delta|}{x}\\ll 1\n",
    "$$\n",
    "时，两者的精度将会有较大差异。\n",
    "\n",
    "## 1.4#5\n",
    "\n",
    "(a) \n",
    "$$\n",
    "\\begin{aligned}\n",
    "    x-\\sin x\n",
    "    &=\\frac{1}{3!}x^3-\\frac{1}{5!}x^5+\\cdots\\\\\n",
    "    &+\\frac{(-1)^{n+1}}{(2n+1)!}x^{2n+1}\n",
    "\\end{aligned}\n",
    "$$\n",
    "\n",
    "(b)\n",
    "$$\n",
    "\\sqrt{x+4}-2=\\frac{x}{\\sqrt{x+4}+2}\n",
    "$$\n",
    "\n",
    "(c)\n",
    "$$\n",
    "\\begin{aligned}\n",
    "    \\frac{e^{2x}-1}{2} &=\\frac{1}{2}(e^x+1)(e^x-1)\n",
    "\\end{aligned}\n",
    "$$\n",
    "\n",
    "(d)\n",
    "$$\n",
    "\\begin{aligned}\n",
    "    \\sin x+\\cos x-1\n",
    "    &=\\sqrt{2}\\sin(x+\\pi/4)-1\n",
    "\\end{aligned}\n",
    "$$\n",
    "\n",
    "or near $x=0$ we can write\n",
    "$$\n",
    "\\begin{aligned}\n",
    "    \\sin x+\\cos x-1\n",
    "    &=\\sin x-\\sin^2 \\frac{x}{2}\n",
    "\\end{aligned}\n",
    "$$\n",
    "\n",
    "(e)\n",
    "\n",
    "near $x=0$ we write\n",
    "\n",
    "$$\n",
    "\\begin{aligned}\n",
    "    \\arctan x-x\n",
    "    &=-\\frac{1}{3}x^3+\\cdots + \\frac{(-1)^{n+}}{2n+1}x^{2n+1}\n",
    "\\end{aligned}\n",
    "$$\n",
    "\n",
    "## 1.4#7\n",
    "\n",
    "如果利用结果$e^{0.01}\\approx1.0101$，则$f(0.01)=0.0001=1\\times 10^{-5}$，虽然原来e指数的估算值有5位有效数字，但是作差后只剩下一位有效数字。\n",
    "\n",
    "计算得到$f(0.01)=5.0167\\times10^{-5}$，两者之间相对误差达到了50%，从这里也可以看到相近数相减对有效数字位数的危害。\n",
    "\n",
    "## 1.4#8\n",
    "\n",
    "$$\n",
    "\\begin{aligned}\n",
    "    \\sin\\left( \\frac{\\pi}{4}+h\\right)\n",
    "    &=\\frac{1}{\\sqrt{2}}\\left( 1+\\frac{1}{1!}h-\\frac{1}{2!}h^2+\\cdots+\\frac{(-1^{[\\frac{n}{2}]})}{n!}h^n\\right)\n",
    "\\end{aligned}\n",
    "$$\n",
    "\n",
    "$$\n",
    "\\sin(45.0005\\degree)=\\sin(\\frac{\\pi}{4}+8.73\\times10^{-6})\n",
    "$$\n",
    "i.e. \n",
    "\n",
    "$$\n",
    "h=8.726646260\\times 10^{-6}\n",
    "$$\n",
    "\n",
    "We only need to reserve to term $O(h^2)$, therefore,\n",
    "\n",
    "$\\sin(45.0005\\degree)\\approx0.707112952$\n"
   ],
   "cell_type": "markdown",
   "metadata": {}
  },
  {
   "cell_type": "markdown",
   "metadata": {},
   "source": [
    "# Subtractive Cancelation\n",
    "\n",
    "One instance where subtractive cancelation can occur involves finding the roots of a quadratic equation with the quadratic formula as \n",
    "\n",
    "\n",
    "$$\n",
    "x_{1,2}=\\frac{-b\\pm \\sqrt{b^2-4a c}}{2a}\n",
    "$$\n",
    "\n",
    "For cases where $b^2\\gg 4ac$, the difference in the numerator can be very small.\n",
    "\n",
    "In such cases, double precision may be employed; Alternatively, an equivalent formulation can be used to iniize subtractive cancelation, i.e.\n",
    "\n",
    "$$\n",
    "x_{1,2} = \\frac{-2c}{b\\pm\\sqrt{b^2-4ac}}\n",
    "$$\n",
    "\n",
    "\n",
    "To give an illustration, compute the values of the roots of a quadratic equation with $a=1, b=3000.001$ and $c=3$. Furthermore, check the computed values versus the true roots of $x_1 = -0.001$ and $x_2 = -3000$."
   ]
  },
  {
   "cell_type": "markdown",
   "metadata": {},
   "source": [
    "\n",
    "there is only 1 type of float of 64 Bytes in default python. However, we can find floats with lower precision in numpy.\n",
    "\n"
   ]
  },
  {
   "cell_type": "code",
   "execution_count": 13,
   "metadata": {},
   "outputs": [],
   "source": [
    "import math\n",
    "# seems python has only 1 type of noninteger value, called float...\n",
    "import numpy as np\n",
    "a=np.float32(1.)\n",
    "b=np.float32(3000.001)\n",
    "c=np.float32(3.)\n",
    "root=np.float32(math.sqrt(b*b-4*a*c))"
   ]
  },
  {
   "cell_type": "code",
   "execution_count": 9,
   "metadata": {},
   "outputs": [
    {
     "name": "stdout",
     "output_type": "stream",
     "text": [
      "-0.0009765625, -3000.0\n"
     ]
    }
   ],
   "source": [
    "x1=(-b+root)/2/a\n",
    "x2=(-b-root)/2/a\n",
    "\n",
    "print(\"{}, {}\".format(x1,x2))\n"
   ]
  },
  {
   "cell_type": "code",
   "execution_count": 2,
   "metadata": {},
   "outputs": [
    {
     "name": "stdout",
     "output_type": "stream",
     "text": [
      "<class 'numpy.float64'> <class 'numpy.float64'>\n"
     ]
    }
   ],
   "source": [
    "print(type(x1),type(x2))\n"
   ]
  },
  {
   "cell_type": "code",
   "execution_count": 8,
   "metadata": {},
   "outputs": [
    {
     "name": "stdout",
     "output_type": "stream",
     "text": [
      "-0.001, -3072.0\n"
     ]
    }
   ],
   "source": [
    "x1Prime=(-2*c)/(b+root)\n",
    "x2Prime=(-2*c)/(b-root)\n",
    "\n",
    "\n",
    "print(\"{}, {}\".format(x1Prime,x2Prime))\n"
   ]
  },
  {
   "cell_type": "markdown",
   "metadata": {},
   "source": [
    "We can see from the results, that the 2nd method is effective in minimizing the subtractive cancelation. $x_2$ is almost precise.\n",
    "\n",
    "However, due to the small denominator, the other root $x_1$ calculated from this formula was not as precise as the one that's been calculated through the first formula."
   ]
  }
 ],
 "metadata": {
  "kernelspec": {
   "display_name": "Python 3",
   "language": "python",
   "name": "python3"
  },
  "language_info": {
   "codemirror_mode": {
    "name": "ipython",
    "version": 3
   },
   "file_extension": ".py",
   "mimetype": "text/x-python",
   "name": "python",
   "nbconvert_exporter": "python",
   "pygments_lexer": "ipython3",
   "version": "3.7.1"
  },
  "latex_envs": {
   "LaTeX_envs_menu_present": true,
   "autoclose": true,
   "autocomplete": true,
   "bibliofile": "biblio.bib",
   "cite_by": "apalike",
   "current_citInitial": 1,
   "eqLabelWithNumbers": true,
   "eqNumInitial": 1,
   "hotkeys": {
    "equation": "Ctrl-E",
    "itemize": "Ctrl-I"
   },
   "labels_anchors": false,
   "latex_user_defs": false,
   "report_style_numbering": false,
   "user_envs_cfg": false
  }
 },
 "nbformat": 4,
 "nbformat_minor": 2
}