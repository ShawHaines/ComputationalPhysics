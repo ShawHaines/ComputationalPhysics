{
 "metadata": {
  "language_info": {
   "codemirror_mode": {
    "name": "ipython",
    "version": 3
   },
   "file_extension": ".py",
   "mimetype": "text/x-python",
   "name": "python",
   "nbconvert_exporter": "python",
   "pygments_lexer": "ipython3",
   "version": "3.7.1-final"
  },
  "orig_nbformat": 2,
  "kernelspec": {
   "name": "python3",
   "display_name": "Python 3"
  }
 },
 "nbformat": 4,
 "nbformat_minor": 2,
 "cells": [
  {
   "source": [
    "# Subtractive Cancelation\n",
    "\n",
    "One instance where subtractive cancelation can occur involves finding the roots of a quadratic equation with the quadratic formula as \n",
    "\n",
    "$$\n",
    "x_{1,2}=\\frac{-b\\pm \\sqrt{b^2-4a c}}{2a}\n",
    "$$\n",
    "\n",
    "For cases where $b^2\\gg 4ac$, the difference in the numerator can be very small.\n",
    "\n",
    "In such cases, double precision may be employed; Alternatively, an equivalent formulation can be used to iniize subtractive cancelation, i.e.\n",
    "\n",
    "$$\n",
    "x_{1,2} = \\frac{-2c}{b\\pm\\sqrt{b^2-4ac}}\n",
    "$$\n",
    "\n",
    "To give an illustration, compute the values of the roots of a quadratic equation with $a=1, b=3000.001$ and $c=3$. Furthermore, check the computed values versus the true roots of $x_1 = -0.001$ and $x_2 = -3000$."
   ],
   "cell_type": "markdown",
   "metadata": {}
  },
  {
   "cell_type": "code",
   "execution_count": 5,
   "metadata": {},
   "outputs": [
    {
     "output_type": "stream",
     "name": "stdout",
     "text": [
      "-0.0009999999999763531, -3000.0\n"
     ]
    }
   ],
   "source": [
    "import math\n",
    "# seems python has only 1 type of noninteger value, called float...\n",
    "a=1.\n",
    "b=3000.001\n",
    "c=3.\n",
    "root=math.sqrt(b*b-4*a*c)\n",
    "x1=(-b+root)/2/a\n",
    "x2=(-b-root)/2/a\n",
    "print(\"{}, {}\".format(x1,x2))"
   ]
  },
  {
   "cell_type": "code",
   "execution_count": 6,
   "metadata": {},
   "outputs": [
    {
     "output_type": "stream",
     "name": "stdout",
     "text": [
      "-0.001, -3000.0000000709406\n"
     ]
    }
   ],
   "source": [
    "x1Prime=(-2*c)/(b+root)\n",
    "x2Prime=(-2*c)/(b-root)\n",
    "print(\"{}, {}\".format(x1Prime,x2Prime))"
   ]
  },
  {
   "source": [
    "We can see from the results, that the 2nd method is effective in minimizing the subtractive cancelation. $x_2$ is almost precise.\n",
    "\n",
    "However, due to the small denominator, the other root $x_1$ calculated from this formula was not as precise as the one that's been calculated through the first formula."
   ],
   "cell_type": "markdown",
   "metadata": {}
  }
 ]
}